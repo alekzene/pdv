{
 "cells": [
  {
   "cell_type": "code",
   "execution_count": 2,
   "metadata": {},
   "outputs": [],
   "source": [
    "from ftplib import FTP_TLS\n",
    "\n",
    "ftphost = \"172.25.164.69\" # retrieved using ifconfig\n",
    "ftpuser = \"ftpuser\"\n",
    "ftppass = \"hellomakati\"\n",
    "ftpport = 21 # default port is 21\n",
    "\n",
    "ftp = FTP_TLS()\n",
    "ftp.connect(ftphost, ftpport)\n",
    "ftp.login(ftpuser, ftppass)\n",
    "ftp.prot_p()\n",
    "\n",
    "ftp.pwd()"
   ]
  }
 ],
 "metadata": {
  "kernelspec": {
   "display_name": ".venv",
   "language": "python",
   "name": "python3"
  },
  "language_info": {
   "codemirror_mode": {
    "name": "ipython",
    "version": 3
   },
   "file_extension": ".py",
   "mimetype": "text/x-python",
   "name": "python",
   "nbconvert_exporter": "python",
   "pygments_lexer": "ipython3",
   "version": "3.12.4"
  }
 },
 "nbformat": 4,
 "nbformat_minor": 2
}
