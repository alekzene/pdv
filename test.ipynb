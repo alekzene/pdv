{
 "cells": [
  {
   "cell_type": "code",
   "execution_count": 4,
   "metadata": {},
   "outputs": [
    {
     "name": "stdout",
     "output_type": "stream",
     "text": [
      "test: 172.25.164.69\n",
      "  Line by line  Fiscal Year                    Employer (Petitioner) Name  \\\n",
      "0            1            2024                                        NaN   \n",
      "1            2            2024                      1 800 FLOWERS COM INC   \n",
      "2            3            2024  1 HOTEL KAUAI LLC DBA 1 HOTEL HANALEI BAY   \n",
      "3            4            2024                         1 POINT SYSTEM LLC   \n",
      "4            5            2024                  1CONNECT TECHNOLOGIES INC   \n",
      "\n",
      "   Tax ID                              Industry (NAICS) Code Petitioner City  \\\n",
      "0  3581.0  54 - Professional, Scientific, and Technical S...       LAFAYETTE   \n",
      "1  7311.0                               44-45 - Retail Trade         JERICHO   \n",
      "2  5669.0               72 - Accommodation and Food Services           MIAMI   \n",
      "3  6496.0  54 - Professional, Scientific, and Technical S...       FORT MILL   \n",
      "4  5789.0  54 - Professional, Scientific, and Technical S...      ALPHARETTA   \n",
      "\n",
      "  Petitioner State  Petitioner Zip Code Initial Approval  Initial Denial  \\\n",
      "0               CA              94549.0                0               0   \n",
      "1               NY              11753.0                0               0   \n",
      "2               FL              33133.0                0               0   \n",
      "3               SC              29708.0                0               0   \n",
      "4               GA              30022.0                0               1   \n",
      "\n",
      "  Continuing Approval  Continuing Denial  \n",
      "0                   1                  0  \n",
      "1                   4                  0  \n",
      "2                   1                  0  \n",
      "3                   1                  0  \n",
      "4                   2                  0  \n"
     ]
    }
   ],
   "source": [
    "import sys # to add parameters when running script\n",
    "import json # for config files\n",
    "import time\n",
    "import schedule # for pipeline scheduling\n",
    "import pandas as pd \n",
    "import requests as req\n",
    "from os import environ, remove\n",
    "from pathlib import Path\n",
    "from ftplib import FTP_TLS\n",
    "\n",
    "# ftphost retrieved using ifconfig\n",
    "# ftpport default 21\n",
    "# credentials transferred to .venv activate file\n",
    "\n",
    "# get ftp details\n",
    "def get_ftp() -> FTP_TLS: # -> for type hint for the expected return type\n",
    "    FTP_HOST = environ[\"FTP_HOST\"]\n",
    "    FTP_USER = environ[\"FTP_USER\"]\n",
    "    FTP_PASSWORD = environ[\"FTP_PASSWORD\"]\n",
    "\n",
    "    print(f\"test: {FTP_HOST}\") # f-string for embedded expressions\n",
    "\n",
    "    ftp = FTP_TLS(FTP_HOST, FTP_USER, FTP_PASSWORD)\n",
    "    ftp.prot_p() # establish secure data connection\n",
    "    return ftp\n",
    "\n",
    "# upload source to ftp\n",
    "def upload_to_ftp(ftp: FTP_TLS, source: Path):\n",
    "    with open(source, \"rb\") as s: # read binary to preserve data format\n",
    "        ftp.storbinary(f\"STOR {source.name}\", s)\n",
    "\n",
    "if __name__==\"__main__\":\n",
    "    ftp = get_ftp()\n",
    "\n",
    "    df = pd.read_csv(\"employer-info-2024.csv\", encoding=\"utf-16\", sep='\\t')\n",
    "    print(df.head())\n",
    "    \n",
    "    upload_to_ftp(ftp, Path(\"employer-info-2024.csv\"))\n"
   ]
  },
  {
   "cell_type": "code",
   "execution_count": 5,
   "metadata": {},
   "outputs": [
    {
     "data": {
      "text/plain": [
       "Line by line                   object\n",
       "Fiscal Year                     int64\n",
       "Employer (Petitioner) Name     object\n",
       "Tax ID                        float64\n",
       "Industry (NAICS) Code          object\n",
       "Petitioner City                object\n",
       "Petitioner State               object\n",
       "Petitioner Zip Code           float64\n",
       "Initial Approval               object\n",
       "Initial Denial                  int64\n",
       "Continuing Approval            object\n",
       "Continuing Denial               int64\n",
       "dtype: object"
      ]
     },
     "execution_count": 5,
     "metadata": {},
     "output_type": "execute_result"
    }
   ],
   "source": [
    "df.dtypes"
   ]
  },
  {
   "cell_type": "code",
   "execution_count": 6,
   "metadata": {},
   "outputs": [
    {
     "data": {
      "text/plain": [
       "'/home/ftpuser'"
      ]
     },
     "execution_count": 6,
     "metadata": {},
     "output_type": "execute_result"
    }
   ],
   "source": [
    "ftp.pwd()"
   ]
  }
 ],
 "metadata": {
  "kernelspec": {
   "display_name": ".venv",
   "language": "python",
   "name": "python3"
  },
  "language_info": {
   "codemirror_mode": {
    "name": "ipython",
    "version": 3
   },
   "file_extension": ".py",
   "mimetype": "text/x-python",
   "name": "python",
   "nbconvert_exporter": "python",
   "pygments_lexer": "ipython3",
   "version": "3.12.4"
  }
 },
 "nbformat": 4,
 "nbformat_minor": 2
}
